{
 "cells": [
  {
   "cell_type": "markdown",
   "metadata": {},
   "source": [
    "# Self-Driving Car Engineer Nanodegree\n",
    "\n",
    "## Deep Learning\n",
    "\n",
    "## Project: Build a Traffic Sign Recognition Classifier\n",
    "\n",
    "In this notebook, a template is provided for you to implement your functionality in stages, which is required to successfully complete this project. If additional code is required that cannot be included in the notebook, be sure that the Python code is successfully imported and included in your submission if necessary. \n",
    "\n",
    "> **Note**: Once you have completed all of the code implementations, you need to finalize your work by exporting the iPython Notebook as an HTML document. Before exporting the notebook to html, all of the code cells need to have been run so that reviewers can see the final implementation and output. You can then export the notebook by using the menu above and navigating to  \\n\",\n",
    "    \"**File -> Download as -> HTML (.html)**. Include the finished document along with this notebook as your submission. \n",
    "\n",
    "In addition to implementing code, there is a writeup to complete. The writeup should be completed in a separate file, which can be either a markdown file or a pdf document. There is a [write up template](https://github.com/udacity/CarND-Traffic-Sign-Classifier-Project/blob/master/writeup_template.md) that can be used to guide the writing process. Completing the code template and writeup template will cover all of the [rubric points](https://review.udacity.com/#!/rubrics/481/view) for this project.\n",
    "\n",
    "The [rubric](https://review.udacity.com/#!/rubrics/481/view) contains \"Stand Out Suggestions\" for enhancing the project beyond the minimum requirements. The stand out suggestions are optional. If you decide to pursue the \"stand out suggestions\", you can include the code in this Ipython notebook and also discuss the results in the writeup file.\n",
    "\n",
    "\n",
    ">**Note:** Code and Markdown cells can be executed using the **Shift + Enter** keyboard shortcut. In addition, Markdown cells can be edited by typically double-clicking the cell to enter edit mode."
   ]
  },
  {
   "cell_type": "markdown",
   "metadata": {},
   "source": [
    "---\n",
    "## Step 0: Load The Data"
   ]
  },
  {
   "cell_type": "code",
   "execution_count": 34,
   "metadata": {
    "collapsed": false
   },
   "outputs": [],
   "source": [
    "# Load pickled data\n",
    "import pickle\n",
    "\n",
    "# TODO: Fill this in based on where you saved the training and testing data\n",
    "\n",
    "training_file = \"traffic-signs-data/train.p\"\n",
    "validation_file= \"traffic-signs-data/valid.p\"\n",
    "testing_file = \"traffic-signs-data/test.p\"\n",
    "\n",
    "with open(training_file, mode='rb') as f:\n",
    "    train = pickle.load(f)\n",
    "with open(validation_file, mode='rb') as f:\n",
    "    valid = pickle.load(f)\n",
    "with open(testing_file, mode='rb') as f:\n",
    "    test = pickle.load(f)\n",
    "    \n",
    "X_train, y_train = train['features'], train['labels']\n",
    "X_valid, y_valid = valid['features'], valid['labels']\n",
    "X_test, y_test = test['features'], test['labels']"
   ]
  },
  {
   "cell_type": "markdown",
   "metadata": {},
   "source": [
    "---\n",
    "\n",
    "## Step 1: Dataset Summary & Exploration\n",
    "\n",
    "The pickled data is a dictionary with 4 key/value pairs:\n",
    "\n",
    "- `'features'` is a 4D array containing raw pixel data of the traffic sign images, (num examples, width, height, channels).\n",
    "- `'labels'` is a 1D array containing the label/class id of the traffic sign. The file `signnames.csv` contains id -> name mappings for each id.\n",
    "- `'sizes'` is a list containing tuples, (width, height) representing the the original width and height the image.\n",
    "- `'coords'` is a list containing tuples, (x1, y1, x2, y2) representing coordinates of a bounding box around the sign in the image. **THESE COORDINATES ASSUME THE ORIGINAL IMAGE. THE PICKLED DATA CONTAINS RESIZED VERSIONS (32 by 32) OF THESE IMAGES**\n",
    "\n",
    "Complete the basic data summary below. Use python, numpy and/or pandas methods to calculate the data summary rather than hard coding the results. For example, the [pandas shape method](http://pandas.pydata.org/pandas-docs/stable/generated/pandas.DataFrame.shape.html) might be useful for calculating some of the summary results. "
   ]
  },
  {
   "cell_type": "markdown",
   "metadata": {},
   "source": [
    "### Provide a Basic Summary of the Data Set Using Python, Numpy and/or Pandas"
   ]
  },
  {
   "cell_type": "code",
   "execution_count": 35,
   "metadata": {
    "collapsed": false
   },
   "outputs": [
    {
     "name": "stdout",
     "output_type": "stream",
     "text": [
      "Number of training examples = 34799\n",
      "Number of testing examples = 12630\n",
      "Number of validation examples = 4410\n",
      "Image data shape = (32, 32, 3)\n",
      "Number of classes = 43\n"
     ]
    }
   ],
   "source": [
    "### Replace each question mark with the appropriate value. \n",
    "### Use python, pandas or numpy methods rather than hard coding the results\n",
    "\n",
    "import numpy as np\n",
    "\n",
    "assert(len(X_train) == len(y_train))\n",
    "assert(len(X_valid) == len(y_valid))\n",
    "assert(len(X_test) == len(y_test))\n",
    "\n",
    "# TODO: Number of training examples\n",
    "n_train = len(X_train)\n",
    "\n",
    "# TODO: Number of testing examples.\n",
    "n_test = len(X_test)\n",
    "\n",
    "n_valid = len(X_valid)\n",
    "\n",
    "# TODO: What's the shape of an traffic sign image?\n",
    "image_shape = X_train[0].shape\n",
    "\n",
    "# TODO: How many unique classes/labels there are in the dataset.\n",
    "n_classes = len(np.unique(y_train))\n",
    "\n",
    "print(\"Number of training examples =\", n_train)\n",
    "print(\"Number of testing examples =\", n_test)\n",
    "print(\"Number of validation examples =\", n_valid)\n",
    "print(\"Image data shape =\", image_shape)\n",
    "print(\"Number of classes =\", n_classes)"
   ]
  },
  {
   "cell_type": "markdown",
   "metadata": {},
   "source": [
    "### Include an exploratory visualization of the dataset"
   ]
  },
  {
   "cell_type": "markdown",
   "metadata": {},
   "source": [
    "Visualize the German Traffic Signs Dataset using the pickled file(s). This is open ended, suggestions include: plotting traffic sign images, plotting the count of each sign, etc.\n",
    "\n",
    "The [Matplotlib](http://matplotlib.org/) [examples](http://matplotlib.org/examples/index.html) and [gallery](http://matplotlib.org/gallery.html) pages are a great resource for doing visualizations in Python.\n",
    "\n",
    "**NOTE:** It's recommended you start with something simple first. If you wish to do more, come back to it after you've completed the rest of the sections."
   ]
  },
  {
   "cell_type": "code",
   "execution_count": 36,
   "metadata": {
    "collapsed": false
   },
   "outputs": [
    {
     "name": "stdout",
     "output_type": "stream",
     "text": [
      "11\n"
     ]
    },
    {
     "data": {
      "image/png": "[encoded data removed]",
      "text/plain": [
       "<matplotlib.figure.Figure at 0x7fbbd4290048>"
      ]
     },
     "metadata": {},
     "output_type": "display_data"
    }
   ],
   "source": [
    "### Data exploration visualization code goes here.\n",
    "### Feel free to use as many code cells as needed.\n",
    "import random\n",
    "import matplotlib.pyplot as plt\n",
    "# Visualizations will be shown in the notebook.\n",
    "%matplotlib inline\n",
    "\n",
    "index = random.randint(0, len(X_train))\n",
    "image = X_train[index].squeeze()\n",
    "\n",
    "plt.figure(figsize=(2,2))\n",
    "plt.imshow(image)\n",
    "print(y_train[index])"
   ]
  },
  {
   "cell_type": "markdown",
   "metadata": {},
   "source": [
    "----\n",
    "\n",
    "## Step 2: Design and Test a Model Architecture\n",
    "\n",
    "Design and implement a deep learning model that learns to recognize traffic signs. Train and test your model on the [German Traffic Sign Dataset](http://benchmark.ini.rub.de/?section=gtsrb&subsection=dataset).\n",
    "\n",
    "There are various aspects to consider when thinking about this problem:\n",
    "\n",
    "- Neural network architecture\n",
    "- Play around preprocessing techniques (normalization, rgb to grayscale, etc)\n",
    "- Number of examples per label (some have more than others).\n",
    "- Generate fake data.\n",
    "\n",
    "Here is an example of a [published baseline model on this problem](http://yann.lecun.com/exdb/publis/pdf/sermanet-ijcnn-11.pdf). It's not required to be familiar with the approach used in the paper but, it's good practice to try to read papers like these.\n",
    "\n",
    "**NOTE:** The LeNet-5 implementation shown in the [classroom](https://classroom.udacity.com/nanodegrees/nd013/parts/fbf77062-5703-404e-b60c-95b78b2f3f9e/modules/6df7ae49-c61c-4bb2-a23e-6527e69209ec/lessons/601ae704-1035-4287-8b11-e2c2716217ad/concepts/d4aca031-508f-4e0b-b493-e7b706120f81) at the end of the CNN lesson is a solid starting point. You'll have to change the number of classes and possibly the preprocessing, but aside from that it's plug and play!"
   ]
  },
  {
   "cell_type": "markdown",
   "metadata": {},
   "source": [
    "### Pre-process the Data Set (normalization, grayscale, etc.)"
   ]
  },
  {
   "cell_type": "markdown",
   "metadata": {},
   "source": [
    "Use the code cell (or multiple code cells, if necessary) to implement the first step of your project."
   ]
  },
  {
   "cell_type": "code",
   "execution_count": 37,
   "metadata": {
    "collapsed": false
   },
   "outputs": [
    {
     "name": "stdout",
     "output_type": "stream",
     "text": [
      "Normalizing...\n",
      "Completed\n",
      "\n",
      "Normalizing...\n",
      "Completed\n",
      "\n",
      "Normalizing...\n",
      "Completed\n",
      "\n"
     ]
    },
    {
     "data": {
      "text/plain": [
       "<matplotlib.image.AxesImage at 0x7fbb7c1df358>"
      ]
     },
     "execution_count": 37,
     "metadata": {},
     "output_type": "execute_result"
    },
    {
     "data": {
      "image/png": "[encoded data removed]",
      "text/plain": [
       "<matplotlib.figure.Figure at 0x7fbbac266320>"
      ]
     },
     "metadata": {},
     "output_type": "display_data"
    },
    {
     "data": {
      "image/png": "[encoded data removed]",
      "text/plain": [
       "<matplotlib.figure.Figure at 0x7fbbac26d390>"
      ]
     },
     "metadata": {},
     "output_type": "display_data"
    }
   ],
   "source": [
    "### Preprocess the data here. Preprocessing steps could include normalization, converting to grayscale, etc.\n",
    "### Feel free to use as many code cells as needed.\n",
    "from sklearn.utils import shuffle\n",
    "import cv2\n",
    "\n",
    "def grayImage(img):\n",
    "    gray_image = cv2.cvtColor(img, cv2.COLOR_RGB2GRAY)\n",
    "    return gray_image\n",
    "\n",
    "def imgNormalize(X_data):\n",
    "    X_norm = []\n",
    "    print(\"Normalizing...\")\n",
    "    for img in range (0, len(X_data)):\n",
    "        gray_image = grayImage(X_data[img])\n",
    "        norm_img = gray_image\n",
    "        norm_img = cv2.normalize(gray_image, norm_img, alpha=-1, beta=1, norm_type=cv2.NORM_MINMAX, dtype=cv2.CV_32F)\n",
    "        X_norm.append(np.resize([norm_img], (32,32,1)))     \n",
    "    print(\"Completed\")\n",
    "    print()\n",
    "    return X_norm\n",
    "\n",
    "#print random image from the training dataset before is processed\n",
    "image = X_train[index].squeeze()\n",
    "plt.figure(figsize=(2,2))\n",
    "plt.imshow(image)\n",
    "\n",
    "X_train = imgNormalize(X_train)\n",
    "X_valid = imgNormalize(X_valid)\n",
    "X_test = imgNormalize(X_test)\n",
    "\n",
    "#print random image from the training dataset after is processed\n",
    "image = X_train[index].squeeze()\n",
    "plt.figure(figsize=(2,2))\n",
    "plt.imshow(image)"
   ]
  },
  {
   "cell_type": "markdown",
   "metadata": {},
   "source": [
    "### Model Architecture"
   ]
  },
  {
   "cell_type": "code",
   "execution_count": 38,
   "metadata": {
    "collapsed": true
   },
   "outputs": [],
   "source": [
    "### Define your architecture here.\n",
    "### Feel free to use as many code cells as needed.\n",
    "\n",
    "import tensorflow as tf\n",
    "\n",
    "EPOCHS = 50\n",
    "BATCH_SIZE = 128"
   ]
  },
  {
   "cell_type": "code",
   "execution_count": 40,
   "metadata": {
    "collapsed": true
   },
   "outputs": [],
   "source": [
    "from tensorflow.contrib.layers import flatten\n",
    "\n",
    "def convNet(x, KEE_PROB):\n",
    "    # Arguments used for tf.truncated_normal, randomly defines variables for the weights and biases for each layer\n",
    "    mu = 0\n",
    "    sigma = 0.1\n",
    "    \n",
    "    #Layer 1: Convolutional. Input = 32x32x1. Output = 30x30x9\n",
    "    conv1_w = tf.Variable(tf.truncated_normal(shape=(3,3,1,9), mean=mu, stddev = sigma))\n",
    "    conv1_b = tf.Variable(tf.zeros(9))\n",
    "    conv1 = tf.nn.conv2d(x, conv1_w, strides=[1,1,1,1], padding=\"VALID\")\n",
    "    conv1 = tf.nn.bias_add(conv1, conv1_b)\n",
    "    \n",
    "    #Layer 1 Activation\n",
    "    conv1 = tf.nn.relu(conv1)\n",
    "    \n",
    "    #Layer 2: Convolutional. Input = 30x30x9. Output = 28x28x18\n",
    "    conv2_w = tf.Variable(tf.truncated_normal(shape=(3,3,9,18), mean=mu, stddev = sigma))\n",
    "    conv2_b = tf.Variable(tf.zeros(18))\n",
    "    conv2 = tf.nn.conv2d(conv1, conv2_w, strides=[1,1,1,1], padding=\"VALID\")\n",
    "    conv2 = tf.nn.bias_add(conv2, conv2_b)\n",
    "    \n",
    "    #Layer 2 Activation\n",
    "    conv2 = tf.nn.relu(conv2)\n",
    "    \n",
    "    #Layer 2 Pooling - Input = 28x28x18. Output = 14x14x18\n",
    "    conv2 = tf.nn.max_pool(conv2, ksize=[1,2,2,1], strides=[1,2,2,1], padding=\"VALID\")\n",
    "    \n",
    "    #Layer 3: Convolutional. Input = 14x14x18. Output = 12x12x32\n",
    "    conv3_w = tf.Variable(tf.truncated_normal(shape=(3,3,18,32), mean=mu, stddev = sigma))\n",
    "    conv3_b = tf.Variable(tf.zeros(32))\n",
    "    conv3 = tf.nn.conv2d(conv2, conv3_w, strides=[1,1,1,1], padding=\"VALID\")\n",
    "    conv3 = tf.nn.bias_add(conv3, conv3_b)\n",
    "    \n",
    "    #Layer 3 Activation\n",
    "    conv3 = tf.nn.relu(conv3)\n",
    "    \n",
    "    #Layer 4: Convolutional. Input = 12x12x32. Output = 10x10x64\n",
    "    conv4_w = tf.Variable(tf.truncated_normal(shape=(3,3,32,64), mean=mu, stddev = sigma))\n",
    "    conv4_b = tf.Variable(tf.zeros(64))\n",
    "    conv4 = tf.nn.conv2d(conv3, conv4_w, strides=[1,1,1,1], padding=\"VALID\")\n",
    "    conv4 = tf.nn.bias_add(conv4, conv4_b)\n",
    "    \n",
    "    #Layer 4 Activation\n",
    "    conv4 = tf.nn.relu(conv4)\n",
    "    \n",
    "    #Layer 4 Dropout\n",
    "    conv4 = tf.nn.dropout(conv4, KEE_PROB)\n",
    "    \n",
    "    #Layer 5: Convolutional. Input = 10x10x64. Output = 8x8x128\n",
    "    conv5_w = tf.Variable(tf.truncated_normal(shape=(3,3,64,128), mean=mu, stddev = sigma))\n",
    "    conv5_b = tf.Variable(tf.zeros(128))\n",
    "    conv5 = tf.nn.conv2d(conv4, conv5_w, strides=[1,1,1,1], padding=\"VALID\")\n",
    "    conv5 = tf.nn.bias_add(conv5, conv5_b)\n",
    "    \n",
    "    #Layer 5 Activation\n",
    "    conv5 = tf.nn.relu(conv5)\n",
    "    \n",
    "    #Layer 5 Pooling - Input = 8x8x128. Output = 4x4x128\n",
    "    conv5 = tf.nn.max_pool(conv5, ksize=[1,2,2,1], strides=[1,2,2,1], padding=\"VALID\")\n",
    "        \n",
    "    #Flatten. Input = 4x4x128. Output = 2048 (4*4*128)\n",
    "    fc0 = flatten(conv5)\n",
    "    \n",
    "    #Layer 6: Fully Connected. Input = 2048. Output = 1024.\n",
    "    fc1_w = tf.Variable(tf.truncated_normal(shape=(2048,1024), mean = mu, stddev = sigma))\n",
    "    fc1_b = tf.Variable(tf.zeros(1024))\n",
    "    fc1 = tf.matmul(fc0, fc1_w) + fc1_b\n",
    "    \n",
    "    #Layer 6 Activation\n",
    "    fc1 = tf.nn.relu(fc1)\n",
    "    \n",
    "    #Layer 7: Fully Connected. Input = 1024. Output = 512.\n",
    "    fc2_w = tf.Variable(tf.truncated_normal(shape=(1024,512), mean = mu, stddev = sigma))\n",
    "    fc2_b = tf.Variable(tf.zeros(512))\n",
    "    fc2 = tf.matmul(fc1, fc2_w) + fc2_b\n",
    "    \n",
    "    #Layer 7 Activation\n",
    "    fc2 = tf.nn.relu(fc2)\n",
    "    \n",
    "    #Layer 8: Fully Connected. Input = 512. Output = 256.\n",
    "    fc3_w = tf.Variable(tf.truncated_normal(shape=(512,256), mean = mu, stddev = sigma))\n",
    "    fc3_b = tf.Variable(tf.zeros(256))\n",
    "    fc3 = tf.matmul(fc2, fc3_w) + fc3_b\n",
    "    \n",
    "    #Layer 8 Activation\n",
    "    fc3 = tf.nn.relu(fc3)\n",
    "    \n",
    "    #Layer 8 Dropout\n",
    "    fc3 = tf.nn.dropout(fc3, KEE_PROB)\n",
    "    \n",
    "    #Layer 9: Fully Connected. Input = 256. Output = 128.\n",
    "    fc4_w = tf.Variable(tf.truncated_normal(shape=(256,128), mean = mu, stddev = sigma))\n",
    "    fc4_b = tf.Variable(tf.zeros(128))\n",
    "    fc4 = tf.matmul(fc3, fc4_w) + fc4_b\n",
    "    \n",
    "    #Layer 9 Activation\n",
    "    fc4 = tf.nn.relu(fc4)\n",
    "    \n",
    "    #Layer 10: Fully Connected. Input = 128. Output = 43.\n",
    "    fc5_w = tf.Variable(tf.truncated_normal(shape=(128,43), mean = mu, stddev = sigma))\n",
    "    fc5_b = tf.Variable(tf.zeros(43))\n",
    "    logits = tf.matmul(fc4, fc5_w) + fc5_b\n",
    "    \n",
    "    return logits"
   ]
  },
  {
   "cell_type": "markdown",
   "metadata": {},
   "source": [
    "### Train, Validate and Test the Model"
   ]
  },
  {
   "cell_type": "markdown",
   "metadata": {},
   "source": [
    "A validation set can be used to assess how well the model is performing. A low accuracy on the training and validation\n",
    "sets imply underfitting. A high accuracy on the training set but low accuracy on the validation set implies overfitting."
   ]
  },
  {
   "cell_type": "code",
   "execution_count": 41,
   "metadata": {
    "collapsed": true
   },
   "outputs": [],
   "source": [
    "### Train your model here.\n",
    "### Calculate and report the accuracy on the training and validation set.\n",
    "### Once a final model architecture is selected, \n",
    "### the accuracy on the test set should be calculated and reported as well.\n",
    "### Feel free to use as many code cells as needed.\n",
    "\n",
    "#Features and Labels\n",
    "x = tf.placeholder(tf.float32, (None, 32,32, 1))\n",
    "y = tf.placeholder(tf.int32, (None))\n",
    "KEEP_PROB = tf.placeholder(tf.float32)\n",
    "one_hot_y = tf.one_hot(y, 43)\n",
    "\n",
    "#Training Pipeline\n",
    "rate = 0.001\n",
    "\n",
    "logits = convNet(x, KEEP_PROB)\n",
    "\n",
    "cross_entropy = tf.nn.softmax_cross_entropy_with_logits(logits, one_hot_y)\n",
    "loss_operation = tf.reduce_mean(cross_entropy)\n",
    "optimizer = tf.train.AdamOptimizer(learning_rate = rate)\n",
    "training_operation = optimizer.minimize(loss_operation)"
   ]
  },
  {
   "cell_type": "code",
   "execution_count": 42,
   "metadata": {
    "collapsed": true
   },
   "outputs": [],
   "source": [
    "#Model Evaluation\n",
    "correct_prediction = tf.equal(tf.argmax(logits, 1), tf.argmax(one_hot_y, 1))\n",
    "accuracy_operation = tf.reduce_mean(tf.cast(correct_prediction, tf.float32))\n",
    "saver = tf.train.Saver()\n",
    "\n",
    "def evaluate(X_data, y_data):\n",
    "    num_examples = len(X_data)\n",
    "    total_accuracy = 0\n",
    "    sess = tf.get_default_session()\n",
    "    for offset in range(0, num_examples, BATCH_SIZE):\n",
    "        batch_x, batch_y = X_data[offset:offset+BATCH_SIZE], y_data[offset:offset+BATCH_SIZE]\n",
    "        accuracy = sess.run(accuracy_operation, feed_dict={x: batch_x, y: batch_y, KEEP_PROB: 1})\n",
    "        total_accuracy += (accuracy * len(batch_x))\n",
    "    return total_accuracy / num_examples"
   ]
  },
  {
   "cell_type": "code",
   "execution_count": 43,
   "metadata": {
    "collapsed": false
   },
   "outputs": [
    {
     "name": "stdout",
     "output_type": "stream",
     "text": [
      "Training...\n",
      "\n",
      "EPOCH 1...\n",
      "Validation Accuracy = 0.918\n",
      "Train Accuracy = 0.953\n",
      "\n",
      "EPOCH 2...\n",
      "Validation Accuracy = 0.966\n",
      "Train Accuracy = 0.989\n",
      "\n",
      "EPOCH 3...\n",
      "Validation Accuracy = 0.972\n",
      "Train Accuracy = 0.995\n",
      "\n",
      "EPOCH 4...\n",
      "Validation Accuracy = 0.963\n",
      "Train Accuracy = 0.995\n",
      "\n",
      "EPOCH 5...\n",
      "Validation Accuracy = 0.976\n",
      "Train Accuracy = 0.997\n",
      "\n",
      "EPOCH 6...\n",
      "Validation Accuracy = 0.978\n",
      "Train Accuracy = 0.998\n",
      "\n",
      "EPOCH 7...\n",
      "Validation Accuracy = 0.981\n",
      "Train Accuracy = 0.997\n",
      "\n",
      "EPOCH 8...\n",
      "Validation Accuracy = 0.985\n",
      "Train Accuracy = 0.999\n",
      "\n",
      "EPOCH 9...\n",
      "Validation Accuracy = 0.974\n",
      "Train Accuracy = 0.999\n",
      "\n",
      "EPOCH 10...\n",
      "Validation Accuracy = 0.967\n",
      "Train Accuracy = 0.997\n",
      "\n",
      "EPOCH 11...\n",
      "Validation Accuracy = 0.983\n",
      "Train Accuracy = 0.999\n",
      "\n",
      "EPOCH 12...\n",
      "Validation Accuracy = 0.979\n",
      "Train Accuracy = 0.999\n",
      "\n",
      "EPOCH 13...\n",
      "Validation Accuracy = 0.983\n",
      "Train Accuracy = 0.998\n",
      "\n",
      "EPOCH 14...\n",
      "Validation Accuracy = 0.984\n",
      "Train Accuracy = 0.999\n",
      "\n",
      "EPOCH 15...\n",
      "Validation Accuracy = 0.985\n",
      "Train Accuracy = 1.000\n",
      "\n",
      "EPOCH 16...\n",
      "Validation Accuracy = 0.981\n",
      "Train Accuracy = 0.999\n",
      "\n",
      "EPOCH 17...\n",
      "Validation Accuracy = 0.985\n",
      "Train Accuracy = 0.999\n",
      "\n",
      "EPOCH 18...\n",
      "Validation Accuracy = 0.986\n",
      "Train Accuracy = 0.999\n",
      "\n",
      "EPOCH 19...\n",
      "Validation Accuracy = 0.980\n",
      "Train Accuracy = 0.999\n",
      "\n",
      "EPOCH 20...\n",
      "Validation Accuracy = 0.983\n",
      "Train Accuracy = 1.000\n",
      "\n",
      "EPOCH 21...\n",
      "Validation Accuracy = 0.983\n",
      "Train Accuracy = 1.000\n",
      "\n",
      "EPOCH 22...\n",
      "Validation Accuracy = 0.978\n",
      "Train Accuracy = 0.999\n",
      "\n",
      "EPOCH 23...\n",
      "Validation Accuracy = 0.975\n",
      "Train Accuracy = 0.999\n",
      "\n",
      "EPOCH 24...\n",
      "Validation Accuracy = 0.977\n",
      "Train Accuracy = 0.999\n",
      "\n",
      "EPOCH 25...\n",
      "Validation Accuracy = 0.985\n",
      "Train Accuracy = 0.999\n",
      "\n",
      "EPOCH 26...\n",
      "Validation Accuracy = 0.977\n",
      "Train Accuracy = 1.000\n",
      "\n",
      "EPOCH 27...\n",
      "Validation Accuracy = 0.980\n",
      "Train Accuracy = 0.996\n",
      "\n",
      "EPOCH 28...\n",
      "Validation Accuracy = 0.990\n",
      "Train Accuracy = 1.000\n",
      "\n",
      "EPOCH 29...\n",
      "Validation Accuracy = 0.982\n",
      "Train Accuracy = 0.999\n",
      "\n",
      "EPOCH 30...\n",
      "Validation Accuracy = 0.985\n",
      "Train Accuracy = 0.999\n",
      "\n",
      "EPOCH 31...\n",
      "Validation Accuracy = 0.982\n",
      "Train Accuracy = 1.000\n",
      "\n",
      "EPOCH 32...\n",
      "Validation Accuracy = 0.984\n",
      "Train Accuracy = 1.000\n",
      "\n",
      "EPOCH 33...\n",
      "Validation Accuracy = 0.983\n",
      "Train Accuracy = 1.000\n",
      "\n",
      "EPOCH 34...\n",
      "Validation Accuracy = 0.988\n",
      "Train Accuracy = 1.000\n",
      "\n",
      "EPOCH 35...\n",
      "Validation Accuracy = 0.981\n",
      "Train Accuracy = 0.999\n",
      "\n",
      "EPOCH 36...\n",
      "Validation Accuracy = 0.980\n",
      "Train Accuracy = 0.998\n",
      "\n",
      "EPOCH 37...\n",
      "Validation Accuracy = 0.982\n",
      "Train Accuracy = 0.999\n",
      "\n",
      "EPOCH 38...\n",
      "Validation Accuracy = 0.986\n",
      "Train Accuracy = 1.000\n",
      "\n",
      "EPOCH 39...\n",
      "Validation Accuracy = 0.985\n",
      "Train Accuracy = 1.000\n",
      "\n",
      "EPOCH 40...\n",
      "Validation Accuracy = 0.984\n",
      "Train Accuracy = 1.000\n",
      "\n",
      "EPOCH 41...\n",
      "Validation Accuracy = 0.988\n",
      "Train Accuracy = 1.000\n",
      "\n",
      "EPOCH 42...\n",
      "Validation Accuracy = 0.987\n",
      "Train Accuracy = 1.000\n",
      "\n",
      "EPOCH 43...\n",
      "Validation Accuracy = 0.987\n",
      "Train Accuracy = 1.000\n",
      "\n",
      "EPOCH 44...\n",
      "Validation Accuracy = 0.976\n",
      "Train Accuracy = 0.999\n",
      "\n",
      "EPOCH 45...\n",
      "Validation Accuracy = 0.984\n",
      "Train Accuracy = 0.999\n",
      "\n",
      "EPOCH 46...\n",
      "Validation Accuracy = 0.989\n",
      "Train Accuracy = 1.000\n",
      "\n",
      "EPOCH 47...\n",
      "Validation Accuracy = 0.988\n",
      "Train Accuracy = 1.000\n",
      "\n",
      "EPOCH 48...\n",
      "Validation Accuracy = 0.988\n",
      "Train Accuracy = 1.000\n",
      "\n",
      "EPOCH 49...\n",
      "Validation Accuracy = 0.990\n",
      "Train Accuracy = 1.000\n",
      "\n",
      "EPOCH 50...\n",
      "Validation Accuracy = 0.988\n",
      "Train Accuracy = 1.000\n",
      "\n",
      "Model Saved\n"
     ]
    }
   ],
   "source": [
    "#Train the Model\n",
    "with tf.Session() as sess:\n",
    "    sess.run(tf.global_variables_initializer())\n",
    "    num_examples = len(X_train)\n",
    "    \n",
    "    print(\"Training...\")\n",
    "    print()\n",
    "    for i in range(EPOCHS):\n",
    "        X_train, y_train = shuffle(X_train, y_train)\n",
    "        for offset in range(0, num_examples, BATCH_SIZE):\n",
    "            batch_x, batch_y = X_train[offset:offset+BATCH_SIZE], y_train[offset:offset+BATCH_SIZE]\n",
    "            sess.run(training_operation, feed_dict={x: batch_x, y: batch_y, KEEP_PROB: 0.6})\n",
    "            \n",
    "        validation_accuracy = evaluate(X_valid, y_valid)\n",
    "        train_accuracy = evaluate(X_train, y_train)\n",
    "        print(\"EPOCH {}...\".format(i+1))\n",
    "        print(\"Validation Accuracy = {:.3f}\".format(validation_accuracy))\n",
    "        print(\"Train Accuracy = {:.3f}\".format(train_accuracy))\n",
    "        print()\n",
    "    \n",
    "    saver.save(sess, './convnet')\n",
    "    print(\"Model Saved\")"
   ]
  },
  {
   "cell_type": "code",
   "execution_count": 44,
   "metadata": {
    "collapsed": false
   },
   "outputs": [
    {
     "name": "stdout",
     "output_type": "stream",
     "text": [
      "Getting Test Accuracy...\n",
      "\n",
      "Test Accuracy = 0.964\n"
     ]
    }
   ],
   "source": [
    "#Test Model on Test Set\n",
    "with tf.Session() as sess:\n",
    "    print(\"Getting Test Accuracy...\")\n",
    "    print()\n",
    "    saver.restore(sess, tf.train.latest_checkpoint('.'))\n",
    "    \n",
    "    test_accuracy = evaluate(X_test, y_test)\n",
    "    print(\"Test Accuracy = {:.3f}\".format(test_accuracy))"
   ]
  },
  {
   "cell_type": "markdown",
   "metadata": {},
   "source": [
    "---\n",
    "\n",
    "## Step 3: Test a Model on New Images\n",
    "\n",
    "To give yourself more insight into how your model is working, download at least five pictures of German traffic signs from the web and use your model to predict the traffic sign type.\n",
    "\n",
    "You may find `signnames.csv` useful as it contains mappings from the class id (integer) to the actual sign name."
   ]
  },
  {
   "cell_type": "markdown",
   "metadata": {},
   "source": [
    "### Load and Output the Images"
   ]
  },
  {
   "cell_type": "code",
   "execution_count": 45,
   "metadata": {
    "collapsed": false
   },
   "outputs": [
    {
     "name": "stdout",
     "output_type": "stream",
     "text": [
      "Image data shape = (32, 32, 3)\n",
      "8\n"
     ]
    },
    {
     "data": {
      "image/png": "[encoded data removed]",
      "text/plain": [
       "<matplotlib.figure.Figure at 0x7fbc37c556a0>"
      ]
     },
     "metadata": {},
     "output_type": "display_data"
    }
   ],
   "source": [
    "### Load the images and plot them here.\n",
    "### Feel free to use as many code cells as needed.\n",
    "\n",
    "import os\n",
    "import matplotlib.image as mpimg\n",
    "\n",
    "arr_img = os.listdir(\"test-signs-data/\")\n",
    "X_m = []\n",
    "y_m = [1,37,27,34,17,31,12,5,13,9,33,4,8]\n",
    "y_labels = [\n",
    "    \"'30'\",\n",
    "    \"'Go Straight or Left'\",\n",
    "    \"'Pedestrians'\",\n",
    "    \"'Turn Left Ahead'\",\n",
    "    \"'No Entry'\",\n",
    "    \"'Wild Animals Crossing'\",\n",
    "    \"'Priority Road'\",\n",
    "    \"'80'\",\n",
    "    \"'Yeld'\",\n",
    "    \"'No Passing'\",\n",
    "    \"'Turn Right Ahead'\",\n",
    "    \"'70'\",\n",
    "    \"'120'\"\n",
    "]\n",
    "\n",
    "for img_name in arr_img:    \n",
    "    X_m.append(mpimg.imread('test-signs-data/' + img_name))\n",
    "    \n",
    "index = random.randint(0, len(X_m))\n",
    "index = 12\n",
    "image = X_m[index].squeeze()\n",
    "image_shape = image.shape\n",
    "print(\"Image data shape =\", image_shape)\n",
    "\n",
    "plt.figure(figsize=(2,2))\n",
    "plt.imshow(image)\n",
    "print(y_m[index]) "
   ]
  },
  {
   "cell_type": "markdown",
   "metadata": {},
   "source": [
    "### Predict the Sign Type for Each Image"
   ]
  },
  {
   "cell_type": "code",
   "execution_count": 46,
   "metadata": {
    "collapsed": false
   },
   "outputs": [
    {
     "name": "stdout",
     "output_type": "stream",
     "text": [
      "Normalizing...\n",
      "Completed\n",
      "\n",
      "Starting predictions...\n",
      "\n",
      "Prediction for Sign:\n",
      "'30'\n",
      "[1]\n",
      "\n",
      "Prediction for Sign:\n",
      "'Go Straight or Left'\n",
      "[37]\n",
      "\n",
      "Prediction for Sign:\n",
      "'Pedestrians'\n",
      "[18]\n",
      "\n",
      "Prediction for Sign:\n",
      "'Turn Left Ahead'\n",
      "[34]\n",
      "\n",
      "Prediction for Sign:\n",
      "'No Entry'\n",
      "[17]\n",
      "\n",
      "Prediction for Sign:\n",
      "'Wild Animals Crossing'\n",
      "[31]\n",
      "\n",
      "Prediction for Sign:\n",
      "'Priority Road'\n",
      "[12]\n",
      "\n",
      "Prediction for Sign:\n",
      "'80'\n",
      "[1]\n",
      "\n",
      "Prediction for Sign:\n",
      "'Yeld'\n",
      "[13]\n",
      "\n",
      "Prediction for Sign:\n",
      "'No Passing'\n",
      "[9]\n",
      "\n",
      "Prediction for Sign:\n",
      "'Turn Right Ahead'\n",
      "[33]\n",
      "\n",
      "Prediction for Sign:\n",
      "'70'\n",
      "[4]\n",
      "\n",
      "Prediction for Sign:\n",
      "'120'\n",
      "[8]\n",
      "\n",
      "Predictions Completed.\n"
     ]
    }
   ],
   "source": [
    "### Run the predictions here and use the model to output the prediction for each image.\n",
    "### Make sure to pre-process the images with the same pre-processing pipeline used earlier.\n",
    "### Feel free to use as many code cells as needed.\n",
    "\n",
    "#Normalize Test Data\n",
    "X_m = imgNormalize(X_m)\n",
    "\n",
    "predictions = tf.argmax(logits,1)\n",
    "    \n",
    "with tf.Session() as sess:\n",
    "    print(\"Starting predictions...\")\n",
    "    print()\n",
    "    \n",
    "    saver.restore(sess, tf.train.latest_checkpoint('.'))   \n",
    "\n",
    "    for img in range(0, len(X_m)):\n",
    "        class1 = sess.run(predictions, feed_dict={x: [X_m[img]], KEEP_PROB: 1})\n",
    "        print(\"Prediction for Sign:\")\n",
    "        print(y_labels[img])\n",
    "        print(class1)\n",
    "        print()\n",
    "        \n",
    "    print(\"Predictions Completed.\")"
   ]
  },
  {
   "cell_type": "markdown",
   "metadata": {},
   "source": [
    "### Analyze Performance"
   ]
  },
  {
   "cell_type": "code",
   "execution_count": 47,
   "metadata": {
    "collapsed": false
   },
   "outputs": [
    {
     "name": "stdout",
     "output_type": "stream",
     "text": [
      "Getting my accuracy...\n",
      "\n",
      "My Accuracy = 0.846\n"
     ]
    }
   ],
   "source": [
    "### Calculate the accuracy for these 5 new images. \n",
    "### For example, if the model predicted 1 out of 5 signs correctly, it's 20% accurate on these new images.\n",
    "\n",
    "with tf.Session() as sess:\n",
    "    print(\"Getting my accuracy...\")\n",
    "    print()\n",
    "    saver.restore(sess, tf.train.latest_checkpoint('.'))\n",
    "    \n",
    "    m_accuracy = evaluate(X_m, y_m)\n",
    "    print(\"My Accuracy = {:.3f}\".format(m_accuracy))"
   ]
  },
  {
   "cell_type": "markdown",
   "metadata": {},
   "source": [
    "### Output Top 5 Softmax Probabilities For Each Image Found on the Web"
   ]
  },
  {
   "cell_type": "markdown",
   "metadata": {},
   "source": [
    "For each of the new images, print out the model's softmax probabilities to show the **certainty** of the model's predictions (limit the output to the top 5 probabilities for each image). [`tf.nn.top_k`](https://www.tensorflow.org/versions/r0.12/api_docs/python/nn.html#top_k) could prove helpful here. \n",
    "\n",
    "The example below demonstrates how tf.nn.top_k can be used to find the top k predictions for each image.\n",
    "\n",
    "`tf.nn.top_k` will return the values and indices (class ids) of the top k predictions. So if k=3, for each sign, it'll return the 3 largest probabilities (out of a possible 43) and the correspoding class ids.\n",
    "\n",
    "Take this numpy array as an example. The values in the array represent predictions. The array contains softmax probabilities for five candidate images with six possible classes. `tk.nn.top_k` is used to choose the three classes with the highest probability:\n",
    "\n",
    "```\n",
    "# (5, 6) array\n",
    "a = np.array([[ 0.24879643,  0.07032244,  0.12641572,  0.34763842,  0.07893497,\n",
    "         0.12789202],\n",
    "       [ 0.28086119,  0.27569815,  0.08594638,  0.0178669 ,  0.18063401,\n",
    "         0.15899337],\n",
    "       [ 0.26076848,  0.23664738,  0.08020603,  0.07001922,  0.1134371 ,\n",
    "         0.23892179],\n",
    "       [ 0.11943333,  0.29198961,  0.02605103,  0.26234032,  0.1351348 ,\n",
    "         0.16505091],\n",
    "       [ 0.09561176,  0.34396535,  0.0643941 ,  0.16240774,  0.24206137,\n",
    "         0.09155967]])\n",
    "```\n",
    "\n",
    "Running it through `sess.run(tf.nn.top_k(tf.constant(a), k=3))` produces:\n",
    "\n",
    "```\n",
    "TopKV2(values=array([[ 0.34763842,  0.24879643,  0.12789202],\n",
    "       [ 0.28086119,  0.27569815,  0.18063401],\n",
    "       [ 0.26076848,  0.23892179,  0.23664738],\n",
    "       [ 0.29198961,  0.26234032,  0.16505091],\n",
    "       [ 0.34396535,  0.24206137,  0.16240774]]), indices=array([[3, 0, 5],\n",
    "       [0, 1, 4],\n",
    "       [0, 5, 1],\n",
    "       [1, 3, 5],\n",
    "       [1, 4, 3]], dtype=int32))\n",
    "```\n",
    "\n",
    "Looking just at the first row we get `[ 0.34763842,  0.24879643,  0.12789202]`, you can confirm these are the 3 largest probabilities in `a`. You'll also notice `[3, 0, 5]` are the corresponding indices."
   ]
  },
  {
   "cell_type": "code",
   "execution_count": 48,
   "metadata": {
    "collapsed": false
   },
   "outputs": [
    {
     "name": "stdout",
     "output_type": "stream",
     "text": [
      "Starting probabilities...\n",
      "\n",
      "Top 5 Probabilites for Sign:\n",
      "'30'\n",
      "[[  1.00000000e+00   1.30016888e-13   1.20461108e-16   8.47939615e-20\n",
      "    5.84411130e-22]]\n",
      "[[1 5 4 2 7]]\n",
      "\n",
      "Top 5 Probabilites for Sign:\n",
      "'Go Straight or Left'\n",
      "[[  1.00000000e+00   8.24804071e-19   6.15190765e-20   1.42098411e-21\n",
      "    1.00843606e-21]]\n",
      "[[37 23 31 21 26]]\n",
      "\n",
      "Top 5 Probabilites for Sign:\n",
      "'Pedestrians'\n",
      "[[  1.00000000e+00   1.06048166e-08   4.52109988e-10   3.10435344e-10\n",
      "    2.10107154e-10]]\n",
      "[[18 26 27 11  1]]\n",
      "\n",
      "Top 5 Probabilites for Sign:\n",
      "'Turn Left Ahead'\n",
      "[[  1.00000000e+00   5.24670405e-08   5.35328393e-10   6.99936550e-12\n",
      "    3.79658631e-12]]\n",
      "[[34 35 16  9 11]]\n",
      "\n",
      "Top 5 Probabilites for Sign:\n",
      "'No Entry'\n",
      "[[  1.00000000e+00   1.56649855e-34   6.47546490e-35   1.08045100e-35\n",
      "    4.44157678e-36]]\n",
      "[[17 41  9 30 33]]\n",
      "\n",
      "Top 5 Probabilites for Sign:\n",
      "'Wild Animals Crossing'\n",
      "[[  1.00000000e+00   9.58352213e-13   9.75562472e-14   1.02572403e-14\n",
      "    4.69143068e-16]]\n",
      "[[31 23 37 21 18]]\n",
      "\n",
      "Top 5 Probabilites for Sign:\n",
      "'Priority Road'\n",
      "[[  1.00000000e+00   8.60659574e-26   1.22579840e-26   6.57658700e-27\n",
      "    4.18353931e-27]]\n",
      "[[12 35 30 32 40]]\n",
      "\n",
      "Top 5 Probabilites for Sign:\n",
      "'80'\n",
      "[[ 0.53803265  0.21471526  0.12579013  0.02673963  0.01047549]]\n",
      "[[1 4 5 2 6]]\n",
      "\n",
      "Top 5 Probabilites for Sign:\n",
      "'Yeld'\n",
      "[[  1.00000000e+00   1.53821027e-35   0.00000000e+00   0.00000000e+00\n",
      "    0.00000000e+00]]\n",
      "[[13 12  0  1  2]]\n",
      "\n",
      "Top 5 Probabilites for Sign:\n",
      "'No Passing'\n",
      "[[  1.00000000e+00   2.55352510e-12   6.86930845e-14   4.50983448e-14\n",
      "    1.40461627e-14]]\n",
      "[[ 9 16 23 10  3]]\n",
      "\n",
      "Top 5 Probabilites for Sign:\n",
      "'Turn Right Ahead'\n",
      "[[  1.00000000e+00   5.94162966e-28   4.84925038e-28   2.81130547e-31\n",
      "    1.47723258e-31]]\n",
      "[[33 10 14 17 11]]\n",
      "\n",
      "Top 5 Probabilites for Sign:\n",
      "'70'\n",
      "[[  1.00000000e+00   2.33441306e-20   1.47867873e-20   1.12563570e-21\n",
      "    1.81802425e-25]]\n",
      "[[4 8 2 1 7]]\n",
      "\n",
      "Top 5 Probabilites for Sign:\n",
      "'120'\n",
      "[[  9.99960899e-01   3.90443201e-05   1.11779430e-08   6.62388766e-09\n",
      "    2.24041630e-09]]\n",
      "[[8 7 4 0 1]]\n",
      "\n",
      "Probabilities completed.\n",
      "\n"
     ]
    }
   ],
   "source": [
    "### Print out the top five softmax probabilities for the predictions on the German traffic sign images found on the web. \n",
    "### Feel free to use as many code cells as needed.\n",
    "\n",
    "softmax = tf.nn.softmax(logits)\n",
    "\n",
    "with tf.Session() as sess:\n",
    "    print(\"Starting probabilities...\")\n",
    "    print()\n",
    "    \n",
    "    saver.restore(sess, tf.train.latest_checkpoint('.'))\n",
    "    \n",
    "    for img in range(0, len(X_m)):\n",
    "        result = sess.run(softmax, feed_dict = { x: [X_m[img]],  KEEP_PROB: 1 })\n",
    "        values, indices = tf.nn.top_k(result, 5)\n",
    "        probs = sess.run(values)\n",
    "        predictions = sess.run(indices)\n",
    "\n",
    "        print(\"Top 5 Probabilites for Sign:\")\n",
    "        print(y_labels[img])\n",
    "        print(probs)\n",
    "        print(predictions)\n",
    "        print()\n",
    "        \n",
    "    print(\"Probabilities completed.\")\n",
    "    print()"
   ]
  },
  {
   "cell_type": "markdown",
   "metadata": {},
   "source": [
    "---\n",
    "\n",
    "## Step 4: Visualize the Neural Network's State with Test Images\n",
    "\n",
    " This Section is not required to complete but acts as an additional excersise for understaning the output of a neural network's weights. While neural networks can be a great learning device they are often referred to as a black box. We can understand what the weights of a neural network look like better by plotting their feature maps. After successfully training your neural network you can see what it's feature maps look like by plotting the output of the network's weight layers in response to a test stimuli image. From these plotted feature maps, it's possible to see what characteristics of an image the network finds interesting. For a sign, maybe the inner network feature maps react with high activation to the sign's boundary outline or to the contrast in the sign's painted symbol.\n",
    "\n",
    " Provided for you below is the function code that allows you to get the visualization output of any tensorflow weight layer you want. The inputs to the function should be a stimuli image, one used during training or a new one you provided, and then the tensorflow variable name that represents the layer's state during the training process, for instance if you wanted to see what the [LeNet lab's](https://classroom.udacity.com/nanodegrees/nd013/parts/fbf77062-5703-404e-b60c-95b78b2f3f9e/modules/6df7ae49-c61c-4bb2-a23e-6527e69209ec/lessons/601ae704-1035-4287-8b11-e2c2716217ad/concepts/d4aca031-508f-4e0b-b493-e7b706120f81) feature maps looked like for it's second convolutional layer you could enter conv2 as the tf_activation variable.\n",
    "\n",
    "For an example of what feature map outputs look like, check out NVIDIA's results in their paper [End-to-End Deep Learning for Self-Driving Cars](https://devblogs.nvidia.com/parallelforall/deep-learning-self-driving-cars/) in the section Visualization of internal CNN State. NVIDIA was able to show that their network's inner weights had high activations to road boundary lines by comparing feature maps from an image with a clear path to one without. Try experimenting with a similar test to show that your trained network's weights are looking for interesting features, whether it's looking at differences in feature maps from images with or without a sign, or even what feature maps look like in a trained network vs a completely untrained one on the same sign image.\n",
    "\n",
    "<figure>\n",
    " <img src=\"visualize_cnn.png\" width=\"380\" alt=\"Combined Image\" />\n",
    " <figcaption>\n",
    " <p></p> \n",
    " <p style=\"text-align: center;\"> Your output should look something like this (above)</p> \n",
    " </figcaption>\n",
    "</figure>\n",
    " <p></p> \n"
   ]
  },
  {
   "cell_type": "code",
   "execution_count": 49,
   "metadata": {
    "collapsed": true
   },
   "outputs": [],
   "source": [
    "### Visualize your network's feature maps here.\n",
    "### Feel free to use as many code cells as needed.\n",
    "\n",
    "# image_input: the test image being fed into the network to produce the feature maps\n",
    "# tf_activation: should be a tf variable name used during your training procedure that represents the calculated state of a specific weight layer\n",
    "# activation_min/max: can be used to view the activation contrast in more detail, by default matplot sets min and max to the actual min and max values of the output\n",
    "# plt_num: used to plot out multiple different weight feature map sets on the same block, just extend the plt number for each new feature map entry\n",
    "\n",
    "def outputFeatureMap(image_input, tf_activation, activation_min=-1, activation_max=-1 ,plt_num=1):\n",
    "    # Here make sure to preprocess your image_input in a way your network expects\n",
    "    # with size, normalization, ect if needed\n",
    "    # image_input = image already normalized\n",
    "    # Note: x should be the same name as your network's tensorflow data placeholder variable\n",
    "    # If you get an error tf_activation is not defined it maybe having trouble accessing the variable from inside a function\n",
    "    activation = tf_activation.eval(session=sess,feed_dict={x : image_input})\n",
    "    featuremaps = activation.shape[3]\n",
    "    plt.figure(plt_num, figsize=(15,15))\n",
    "    for featuremap in range(featuremaps):\n",
    "        plt.subplot(6,8, featuremap+1) # sets the number of feature maps to show on each row and column\n",
    "        plt.title('FeatureMap ' + str(featuremap)) # displays the feature map number\n",
    "        if activation_min != -1 & activation_max != -1:\n",
    "            plt.imshow(activation[0,:,:, featuremap], interpolation=\"nearest\", vmin =activation_min, vmax=activation_max, cmap=\"gray\")\n",
    "        elif activation_max != -1:\n",
    "            plt.imshow(activation[0,:,:, featuremap], interpolation=\"nearest\", vmax=activation_max, cmap=\"gray\")\n",
    "        elif activation_min !=-1:\n",
    "            plt.imshow(activation[0,:,:, featuremap], interpolation=\"nearest\", vmin=activation_min, cmap=\"gray\")\n",
    "        else:\n",
    "            plt.imshow(activation[0,:,:, featuremap], interpolation=\"nearest\", cmap=\"gray\")\n",
    "               \n",
    "\n",
    "#conv1_W = tf.Variable(tf.truncated_normal(shape=(3, 3, 1, 9), mean = 0, stddev = 0.1))\n",
    "#conv1_b = tf.Variable(tf.zeros(9))\n",
    "#conv1   = tf.nn.conv2d(x, conv1_W, strides=[1, 1, 1, 1], padding='VALID') + conv1_b\n",
    "\n",
    "#with tf.Session() as sess:\n",
    "#    print(\"Starting Features Map Plot...\")\n",
    "#    print()\n",
    "    \n",
    "#    saver.restore(sess, tf.train.latest_checkpoint('.'))\n",
    "#    outputFeatureMap(np.resize([X_m[1]], (32,32,1)), conv1)"
   ]
  },
  {
   "cell_type": "markdown",
   "metadata": {},
   "source": [
    "### Question 9\n",
    "\n",
    "Discuss how you used the visual output of your trained network's feature maps to show that it had learned to look for interesting characteristics in traffic sign images\n"
   ]
  },
  {
   "cell_type": "markdown",
   "metadata": {},
   "source": [
    "**Answer:**"
   ]
  },
  {
   "cell_type": "markdown",
   "metadata": {},
   "source": [
    "> **Note**: Once you have completed all of the code implementations and successfully answered each question above, you may finalize your work by exporting the iPython Notebook as an HTML document. You can do this by using the menu above and navigating to  \\n\",\n",
    "    \"**File -> Download as -> HTML (.html)**. Include the finished document along with this notebook as your submission."
   ]
  },
  {
   "cell_type": "markdown",
   "metadata": {},
   "source": [
    "### Project Writeup\n",
    "\n",
    "Once you have completed the code implementation, document your results in a project writeup using this [template](https://github.com/udacity/CarND-Traffic-Sign-Classifier-Project/blob/master/writeup_template.md) as a guide. The writeup can be in a markdown or pdf file. "
   ]
  }
 ],
 "metadata": {
  "anaconda-cloud": {},
  "kernelspec": {
   "display_name": "Python 3",
   "language": "python",
   "name": "python3"
  },
  "language_info": {
   "codemirror_mode": {
    "name": "ipython",
    "version": 3
   },
   "file_extension": ".py",
   "mimetype": "text/x-python",
   "name": "python",
   "nbconvert_exporter": "python",
   "pygments_lexer": "ipython3",
   "version": "3.5.2"
  },
  "widgets": {
   "state": {},
   "version": "1.1.2"
  }
 },
 "nbformat": 4,
 "nbformat_minor": 1
}
